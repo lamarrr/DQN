{
 "cells": [
  {
   "cell_type": "markdown",
   "metadata": {},
   "source": [
    "\n",
    "Reinforcement Learning (DQN) Tutorial\n",
    "=====================================\n",
    "\n",
    "This [tutorial](http://pytorch.org/tutorials/intermediate/reinforcement_q_learning.html) shows how to use Tensorflow 2.0 to train a Deep Q Learning (DQN) agent\n",
    "on the CartPole-v0 environment from the [OpenAI Gym](https://gym.openai.com/).\n",
    "\n",
    "**CartPole Task**\n",
    "\n",
    "The agent has to decide between two actions - moving the cart left or\n",
    "right - so that the pole attached to it stays upright. You can find an\n",
    "official leaderboard with various algorithms and visualizations at the\n",
    "[Gym website](https://gym.openai.com/envs/CartPole-v0).\n",
    "\n",
    "As the agent observes the current state of the environment and chooses\n",
    "an action, the environment *transitions* to a new state, and also\n",
    "returns a reward that indicates the consequences of the action. In this\n",
    "task, the environment terminates if the pole falls over too far.\n",
    "\n",
    "<img src=\"https://github.com/pytorch/tutorials/raw/master/_static/img/cartpole.gif\">\n",
    "\n",
    "The CartPole task is designed so that the inputs to the agent are 4 real\n",
    "values representing the environment state (position, velocity, etc.).\n",
    "However, neural networks can solve the task purely by looking at the\n",
    "scene, so we'll use a patch of the screen centered on the cart as an\n",
    "input. Because of this, our results aren't directly comparable to the\n",
    "ones from the official leaderboard - our task is much harder.\n",
    "Unfortunately this does slow down the training, because we have to\n",
    "render all the frames.\n",
    "\n",
    "Strictly speaking, we will present the state as the difference between\n",
    "the current screen patch and the previous one. This will allow the agent\n",
    "to take the velocity of the pole into account from one image.\n",
    "\n",
    "**Packages**\n",
    "\n",
    "\n",
    "First, let's import needed packages. Firstly, we need [`gym`](https://gym.openai.com/docs) for the environment. We'll also use the following from PyTorch:\n",
    "\n",
    "-  neural networks (``tensorflow.nn``)\n",
    "-  optimization (``tensorflow.keras.optimizers``)\n",
    "-  automatic differentiation (``tensorflow.GradientTape``)\n",
    "-  tilities for vision tasks (``tensorflow.image``)"
   ]
  },
  {
   "cell_type": "markdown",
   "metadata": {},
   "source": [
    "# Reference Papers\n",
    "- [Mnih, Volodymyr, et al. \"Playing atari with deep reinforcement learning.\" arXiv preprint arXiv:1312.5602 (2013)](https://arxiv.org/abs/1312.5602)."
   ]
  },
  {
   "cell_type": "code",
   "execution_count": 1,
   "metadata": {},
   "outputs": [],
   "source": [
    "import os\n",
    "import random\n",
    "import sys\n",
    "import tempfile\n",
    "import warnings\n",
    "from collections import namedtuple\n",
    "from itertools import count\n",
    "from typing import Any, Callable, List, Tuple\n",
    "\n",
    "import gym\n",
    "import numpy as np\n",
    "import tensorflow as tf\n",
    "import tensorflow.keras as keras\n",
    "from matplotlib import pyplot\n",
    "from tensorflow.keras import activations, layers, losses, optimizers\n",
    "from tensorflow.python.framework.ops import EagerTensor\n",
    "from tensorflow.python.keras.losses import huber_loss\n",
    "from IPython import get_ipython"
   ]
  },
  {
   "cell_type": "code",
   "execution_count": 2,
   "metadata": {},
   "outputs": [],
   "source": [
    "# this script's parent directory\n",
    "script_dir = os.path.sep.join(os.path.sep.split(sys.argv[0])[:-1])"
   ]
  },
  {
   "cell_type": "code",
   "execution_count": 3,
   "metadata": {},
   "outputs": [],
   "source": [
    "# magic seed, hahaha\n",
    "random.seed(12)\n",
    "np.random.seed(12)\n",
    "tf.random.set_seed(12)"
   ]
  },
  {
   "cell_type": "code",
   "execution_count": 4,
   "metadata": {},
   "outputs": [
    {
     "name": "stderr",
     "output_type": "stream",
     "text": [
      "[2020-03-06 02:07:32,667] Making new env: CartPole-v0\n",
      "/usr/local/lib/python3.7/dist-packages/gym/envs/registration.py:17: PkgResourcesDeprecationWarning: Parameters to load are deprecated.  Call .resolve and .require separately.\n",
      "  result = entry_point.load(False)\n"
     ]
    },
    {
     "data": {
      "text/plain": [
       "array([-0.01262825, -0.04854411,  0.01733436,  0.01011364])"
      ]
     },
     "execution_count": 4,
     "metadata": {},
     "output_type": "execute_result"
    }
   ],
   "source": [
    "test_env = gym.envs.make(\"CartPole-v0\").unwrapped\n",
    "test_env.reset()"
   ]
  },
  {
   "cell_type": "markdown",
   "metadata": {},
   "source": [
    "## Setting Up CPU/GPU"
   ]
  },
  {
   "cell_type": "code",
   "execution_count": 5,
   "metadata": {},
   "outputs": [
    {
     "name": "stdout",
     "output_type": "stream",
     "text": [
      "PhysicalDevice(name='/physical_device:CPU:0', device_type='CPU')\n",
      "PhysicalDevice(name='/physical_device:XLA_CPU:0', device_type='XLA_CPU')\n",
      "PhysicalDevice(name='/physical_device:XLA_GPU:0', device_type='XLA_GPU')\n",
      "PhysicalDevice(name='/physical_device:GPU:0', device_type='GPU')\n"
     ]
    }
   ],
   "source": [
    "# check available devices\n",
    "physical_devices = tf.config.experimental.list_physical_devices()\n",
    "print(*physical_devices, sep=\"\\n\")"
   ]
  },
  {
   "cell_type": "code",
   "execution_count": 6,
   "metadata": {},
   "outputs": [],
   "source": [
    "# using GPU\n",
    "DEVICE_ID = \"GPU:0\""
   ]
  },
  {
   "cell_type": "markdown",
   "metadata": {},
   "source": [
    "Replay Memory\n",
    "-------------\n",
    "\n",
    "We'll be using a buffer of experience replay memory for training our DQN. It stores\n",
    "the transitions that the agent observes, allowing us to reuse this data\n",
    "later. By sampling from it randomly, the transitions that build up a\n",
    "batch are decorrelated. It has been shown that this greatly stabilizes\n",
    "and improves the DQN training procedure.\n",
    "\n",
    "For this, we're going to need two classses:\n",
    "\n",
    "-  ``Transition`` - a named tuple representing a single transition in\n",
    "   our environment\n",
    "-  ``ReplayMemory`` - a cyclic buffer of bounded size that holds the\n",
    "   transitions observed recently. It also implements a ``.sample()``\n",
    "   method for selecting a random batch of transitions for training.\n"
   ]
  },
  {
   "cell_type": "code",
   "execution_count": 7,
   "metadata": {},
   "outputs": [],
   "source": [
    "Transition = namedtuple(\n",
    "    \"Transition\", (\"state\", \"action\", \"reward\", \"next_state\"))\n",
    "# Observation = namedtuple(\"Observation\", (\"position\", \"velocity\", \"pole_angle\", \"tip_velocity\"))"
   ]
  },
  {
   "cell_type": "code",
   "execution_count": 8,
   "metadata": {},
   "outputs": [],
   "source": [
    "class ReplayMemory:\n",
    "\n",
    "    def __init__(self, capacity: int):\n",
    "        self.capacity: int = capacity\n",
    "        self.position = 0\n",
    "        self.memory: List[Any] = []\n",
    "\n",
    "    def __len__(self) -> int:\n",
    "        return len(self.memory)\n",
    "\n",
    "    def push(self, *transition: Any) -> None:\n",
    "        \"\"\"\n",
    "        push state transition ```transition``` into replay memory and clip to storage capacity\n",
    "        the gc frees the memory hopefully, lol.\n",
    "        \"\"\"\n",
    "        if len(self.memory) < self.capacity:\n",
    "            self.memory.append(None)\n",
    "        self.memory[self.position] = transition\n",
    "        self.position = (self.position + 1) % self.capacity\n",
    "\n",
    "    def sample(self, sample_size: int) -> List[Any]:\n",
    "        \"\"\"\n",
    "        randomly sample ```sample_size``` state transitions from the replay memory\n",
    "        \"\"\"\n",
    "        return random.sample(self.memory, sample_size)"
   ]
  },
  {
   "cell_type": "code",
   "execution_count": 9,
   "metadata": {},
   "outputs": [
    {
     "name": "stdout",
     "output_type": "stream",
     "text": [
      "[(7, 7), (14, 14), (15, 15), (11, 11), (13, 13), (10, 10), (12, 12), (6, 6), (9, 9), (8, 8)]\n"
     ]
    },
    {
     "data": {
      "text/plain": [
       "True"
      ]
     },
     "execution_count": 9,
     "metadata": {},
     "output_type": "execute_result"
    }
   ],
   "source": [
    "test_mem = ReplayMemory(10)\n",
    "\n",
    "for i in range(16):\n",
    "    test_mem.push(i, i)\n",
    "\n",
    "test_sample = test_mem.sample(10)\n",
    "print(test_sample)\n",
    "\n",
    "set(test_sample) == set((i, i) for i in range(6, 16))"
   ]
  },
  {
   "cell_type": "markdown",
   "metadata": {},
   "source": [
    "Now, let's define our model. But first, let quickly recap what a DQN is.\n",
    "\n",
    "DQN algorithm\n",
    "-------------\n",
    "\n",
    "Our environment is deterministic, so all equations presented here are\n",
    "also formulated deterministically for the sake of simplicity. In the\n",
    "reinforcement learning literature, they would also contain expectations\n",
    "over stochastic transitions in the environment.\n",
    "\n",
    "Our aim will be to train a policy that tries to maximize the discounted,\n",
    "cumulative reward\n",
    "$R_{t_0} = \\sum_{t=t_0}^{\\infty} \\gamma^{t - t_0} r_t$, where\n",
    "$R_{t_0}$ is also known as the *return*. The discount,\n",
    "$\\gamma$, should be a constant between $0$ and $1$\n",
    "that ensures the sum converges. It makes rewards from the uncertain far\n",
    "future less important for our agent than the ones in the near future\n",
    "that it can be fairly confident about.\n",
    "\n",
    "The main idea behind Q-learning is that if we had a function\n",
    "$Q^*: State \\times Action \\rightarrow \\mathbb{R}$, that could tell\n",
    "us what our return would be, if we were to take an action in a given\n",
    "state, then we could easily construct a policy that maximizes our\n",
    "rewards:\n",
    "\n",
    "\\begin{align}\\pi^*(s) = \\arg\\!\\max_a \\ Q^*(s, a)\\end{align}\n",
    "\n",
    "However, we don't know everything about the world, so we don't have\n",
    "access to $Q^*$. But, since neural networks are universal function\n",
    "approximators, we can simply create one and train it to resemble\n",
    "$Q^*$.\n",
    "\n",
    "For our training update rule, we'll use a fact that every $Q$\n",
    "function for some policy obeys the Bellman equation:\n",
    "\n",
    "\\begin{align}Q^{\\pi}(s, a) = r + \\gamma Q^{\\pi}(s', \\pi(s'))\\end{align}\n",
    "\n",
    "The difference between the two sides of the equality is known as the\n",
    "temporal difference error, $\\delta$:\n",
    "\n",
    "\\begin{align}\\delta = Q(s, a) - (r + \\gamma \\max_a Q(s', a))\\end{align}\n",
    "\n",
    "To minimise this error, we will use the [Huber\n",
    "loss](https://en.wikipedia.org/wiki/Huber_loss). The Huber loss acts\n",
    "like the mean squared error when the error is small, but like the mean\n",
    "absolute error when the error is large - this makes it more robust to\n",
    "outliers when the estimates of $Q$ are very noisy. We calculate\n",
    "this over a batch of transitions, $B$, sampled from the replay\n",
    "memory:\n",
    "\n",
    "\\begin{align}\\mathcal{L} = \\frac{1}{|B|}\\sum_{(s, a, s', r) \\ \\in \\ B} \\mathcal{L}(\\delta)\\end{align}\n",
    "\n",
    "\\begin{align}\\text{where} \\quad \\mathcal{L}(\\delta) = \\begin{cases}\n",
    "     \\frac{1}{2}{\\delta^2}  & \\text{for } |\\delta| \\le 1, \\\\\n",
    "     |\\delta| - \\frac{1}{2} & \\text{otherwise.}\n",
    "   \\end{cases}\\end{align}\n",
    "\n",
    "### Q-network\n",
    "\n",
    "Our model will be a convolutional neural network that takes in the\n",
    "difference between the current and previous screen patches. It has two\n",
    "outputs, representing $Q(s, \\mathrm{left})$ and\n",
    "$Q(s, \\mathrm{right})$ (where $s$ is the input to the\n",
    "network). In effect, the network is trying to predict the *quality* of\n",
    "taking each action given the current input."
   ]
  },
  {
   "cell_type": "code",
   "execution_count": 10,
   "metadata": {},
   "outputs": [],
   "source": [
    "ACTION_SPACE_SIZE = 2"
   ]
  },
  {
   "cell_type": "code",
   "execution_count": 11,
   "metadata": {},
   "outputs": [],
   "source": [
    "class DQN(tf.keras.Model):\n",
    "\n",
    "    def __init__(self, action_space_size: int):\n",
    "        super().__init__()\n",
    "        self.conv_1 = layers.Conv2D(16, kernel_size=(\n",
    "            5, 5), strides=(2, 2), activation=activations.relu)\n",
    "        self.bnorm_1 = layers.BatchNormalization()\n",
    "        self.conv_2 = layers.Conv2D(32, kernel_size=(\n",
    "            5, 5), strides=(2, 2), activation=activations.relu)\n",
    "        self.bnorm_2 = layers.BatchNormalization()\n",
    "        self.conv_3 = layers.Conv2D(32, kernel_size=(\n",
    "            5, 5), strides=(2, 2), activation=activations.relu)\n",
    "        self.bnorm_3 = layers.BatchNormalization()\n",
    "        self.flatten = layers.Flatten()\n",
    "        self.low_rank = layers.Dense(units=action_space_size)\n",
    "\n",
    "    def call(self, batch: EagerTensor) -> EagerTensor:\n",
    "        x = self.conv_1(batch)\n",
    "        x = self.bnorm_1(x)\n",
    "        x = self.conv_2(x)\n",
    "        x = self.bnorm_2(x)\n",
    "        x = self.conv_3(x)\n",
    "        x = self.bnorm_3(x)\n",
    "        x = self.flatten(x)\n",
    "        x = self.low_rank(x)\n",
    "\n",
    "        return x"
   ]
  },
  {
   "cell_type": "code",
   "execution_count": 12,
   "metadata": {},
   "outputs": [],
   "source": [
    "for device in physical_devices:\n",
    "    if device.device_type == \"GPU\":\n",
    "        tf.config.experimental.set_memory_growth(device, True)"
   ]
  },
  {
   "cell_type": "code",
   "execution_count": 13,
   "metadata": {},
   "outputs": [],
   "source": [
    "# test if model is ok and has no layout errors\n",
    "# we are not actually using the Huber loss directly, this is just for testing here\n",
    "test_nn = DQN(ACTION_SPACE_SIZE)\n",
    "\n",
    "test_nn.compile(optimizer=optimizers.RMSprop(), loss=keras.losses.Huber())"
   ]
  },
  {
   "cell_type": "code",
   "execution_count": 14,
   "metadata": {},
   "outputs": [
    {
     "name": "stdout",
     "output_type": "stream",
     "text": [
      "Train on 12 samples\n",
      "Epoch 1/2\n",
      "12/12 [==============================] - 2s 159ms/sample - loss: 0.0000e+00\n",
      "Epoch 2/2\n",
      "12/12 [==============================] - 0s 700us/sample - loss: 0.0000e+00\n"
     ]
    }
   ],
   "source": [
    "# test training\n",
    "with tf.device(DEVICE_ID):\n",
    "    test_nn.fit(tf.zeros((12, 40, 80, 3)), tf.zeros((12,)), epochs=2)"
   ]
  },
  {
   "cell_type": "code",
   "execution_count": 15,
   "metadata": {},
   "outputs": [
    {
     "name": "stdout",
     "output_type": "stream",
     "text": [
      "Model: \"dqn\"\n",
      "_________________________________________________________________\n",
      "Layer (type)                 Output Shape              Param #   \n",
      "=================================================================\n",
      "conv2d (Conv2D)              multiple                  1216      \n",
      "_________________________________________________________________\n",
      "batch_normalization (BatchNo multiple                  64        \n",
      "_________________________________________________________________\n",
      "conv2d_1 (Conv2D)            multiple                  12832     \n",
      "_________________________________________________________________\n",
      "batch_normalization_1 (Batch multiple                  128       \n",
      "_________________________________________________________________\n",
      "conv2d_2 (Conv2D)            multiple                  25632     \n",
      "_________________________________________________________________\n",
      "batch_normalization_2 (Batch multiple                  128       \n",
      "_________________________________________________________________\n",
      "flatten (Flatten)            multiple                  0         \n",
      "_________________________________________________________________\n",
      "dense (Dense)                multiple                  898       \n",
      "=================================================================\n",
      "Total params: 40,898\n",
      "Trainable params: 40,738\n",
      "Non-trainable params: 160\n",
      "_________________________________________________________________\n"
     ]
    }
   ],
   "source": [
    "test_nn.summary()"
   ]
  },
  {
   "cell_type": "markdown",
   "metadata": {},
   "source": [
    "## Important Terms\n",
    "- ```world_height``` and ```world_width```:\n",
    "- ```screen_height``` and ```screen_width```:\n",
    "- ```view_width``` and ```view_height```:"
   ]
  },
  {
   "cell_type": "markdown",
   "metadata": {},
   "source": [
    "*Pre-configured to the gym cartpole env*"
   ]
  },
  {
   "cell_type": "code",
   "execution_count": 16,
   "metadata": {},
   "outputs": [],
   "source": [
    "# deterministic configurations from OpenAI Gym's CartPoleV1 environment\n",
    "SCREEN_WIDTH: int = 600\n",
    "SCREEN_HEIGHT: int = 400"
   ]
  },
  {
   "cell_type": "markdown",
   "metadata": {},
   "source": [
    "*Our View Configurations*"
   ]
  },
  {
   "cell_type": "code",
   "execution_count": 17,
   "metadata": {},
   "outputs": [],
   "source": [
    "# width and height of our desired view/part of the screen\n",
    "VIEW_HEIGHT: int = 160\n",
    "VIEW_WIDTH: int = 320\n",
    "DOWNSCALE_FACTOR: float = 0.25"
   ]
  },
  {
   "cell_type": "code",
   "execution_count": 18,
   "metadata": {},
   "outputs": [
    {
     "name": "stdout",
     "output_type": "stream",
     "text": [
      "H X W: (40, 80)\n"
     ]
    }
   ],
   "source": [
    "\n",
    "INPUT_HEIGHT = int(DOWNSCALE_FACTOR * VIEW_HEIGHT)\n",
    "INPUT_WIDTH = int(DOWNSCALE_FACTOR * VIEW_WIDTH)\n",
    "\n",
    "print(\"H X W:\", (INPUT_HEIGHT, INPUT_WIDTH))"
   ]
  },
  {
   "cell_type": "markdown",
   "metadata": {},
   "source": [
    "### Input extraction\n",
    "\n",
    "The code below are utilities for extracting and processing rendered\n",
    "images from the environment. It uses the ``tensorflow.image`` module, which\n",
    "makes it easy to compose image transforms as tensorflow native functions. Once you run the cell it will\n",
    "display an example patch that it extracted.\n"
   ]
  },
  {
   "cell_type": "code",
   "execution_count": 19,
   "metadata": {},
   "outputs": [],
   "source": [
    "# hard coded to our use case\n",
    "@tf.function\n",
    "def resize_image_to_input(images: tf.Tensor) -> tf.Tensor:\n",
    "    return tf.image.resize(images, method=\"bilinear\", size=(INPUT_HEIGHT, INPUT_WIDTH))"
   ]
  },
  {
   "cell_type": "code",
   "execution_count": 20,
   "metadata": {},
   "outputs": [],
   "source": [
    "def get_world_parameters(env: gym.Env, screen_width: int) -> Tuple[float, float]:\n",
    "    \"\"\"\n",
    "    get the world's width and the linear scale required to\n",
    "    project it to the desired screen width\n",
    "    \"\"\"\n",
    "    # -2.4, 2.4 => 0, 2.4 * 2\n",
    "    # [-world_width/2, world_width/2] => [0, world_width]\n",
    "    world_width = env.x_threshold * 2\n",
    "    scale = screen_width / world_width\n",
    "    return world_width, scale"
   ]
  },
  {
   "cell_type": "code",
   "execution_count": 21,
   "metadata": {},
   "outputs": [],
   "source": [
    "def get_cart_location(env: gym.Env, screen_width: int) -> int:\n",
    "    \"\"\"\n",
    "    get cart's horizontal location relative to the screen width\n",
    "    \"\"\"\n",
    "    _, scale = get_world_parameters(env, screen_width)\n",
    "    \n",
    "    # since state position observations are relative to the world,\n",
    "    # convert to screen coordinates\n",
    "    \n",
    "    # scale from [-world_width/2, world_width/2] to  [-screen_pos/2,screen_pos/2]\n",
    "    screen_pos = env.state[0] * scale\n",
    "    \n",
    "    # convert from [-screen_pos/2, screen_pos/2] to [0, screen_pos]\n",
    "    screen_pos = screen_pos + screen_width / 2\n",
    "    \n",
    "    return int(screen_pos)"
   ]
  },
  {
   "cell_type": "code",
   "execution_count": 22,
   "metadata": {},
   "outputs": [],
   "source": [
    "def trailing_window_slice(screen: np.ndarray, location: int, window_size: int) -> np.ndarray:\n",
    "    \n",
    "    # trimming along the vertical axis, dependent on cart's location\n",
    "    \n",
    "    # sliding trailing window that trims/slices along the vertical axis.\n",
    "    # stops sliding when the slidig window touches any of the edges\n",
    "    # window trails ```location``` such that ```location``` is always in the window's midpoint\n",
    "    # until the window touches the screen edges\n",
    "    \n",
    "    # center of cart is towards the left edge\n",
    "    if location < window_size // 2:\n",
    "        screen = screen[:, :window_size, :]\n",
    "    # center of cart is towards the right edge\n",
    "    elif location > (screen.shape[1] - window_size // 2):\n",
    "        screen = screen[:, :-window_size, :]\n",
    "    else:\n",
    "        # crop at position that is neither at the right nor left edge\n",
    "        beg_index = (location - window_size // 2)\n",
    "        end_index = (location + window_size // 2)\n",
    "        \n",
    "        screen = screen[:, beg_index:end_index, :]\n",
    "    \n",
    "    return screen"
   ]
  },
  {
   "cell_type": "code",
   "execution_count": 23,
   "metadata": {},
   "outputs": [],
   "source": [
    "def preprocess_screen(env: gym.Env, screen: np.ndarray) -> EagerTensor:\n",
    "    # hard-coded to our use case\n",
    "    # screen: np.ndarray of dtype np.float\n",
    "    # trimming along the horizontal axis\n",
    "    # remove upper part of the screen, pole never reaches that height, nor any of the world observation\n",
    "    upper_trim:int = 160\n",
    "    lower_trim:int = upper_trim + VIEW_HEIGHT\n",
    "    screen = screen[upper_trim:lower_trim, :, :]\n",
    "    \n",
    "    cart_location = get_cart_location(env, SCREEN_WIDTH)\n",
    "    \n",
    "    screen = trailing_window_slice(screen, cart_location, VIEW_WIDTH)\n",
    "    \n",
    "    screen = resize_image_to_input(screen)\n",
    "    \n",
    "    # screen = tf.clip_by_value(screen, clip_value_min=0.0, clip_value_max=1.0)\n",
    "    \n",
    "    return screen"
   ]
  },
  {
   "cell_type": "code",
   "execution_count": 24,
   "metadata": {},
   "outputs": [
    {
     "data": {
      "image/png": "[encoded data removed]",
      "text/plain": [
       "<Figure size 432x288 with 1 Axes>"
      ]
     },
     "metadata": {
      "needs_background": "light"
     },
     "output_type": "display_data"
    },
    {
     "data": {
      "image/png": "[encoded data removed]",
      "text/plain": [
       "<Figure size 432x288 with 1 Axes>"
      ]
     },
     "metadata": {
      "needs_background": "light"
     },
     "output_type": "display_data"
    }
   ],
   "source": [
    "test_img = test_env.render(mode=\"rgb_array\") / 255.0\n",
    "pyplot.imshow(test_img)\n",
    "pyplot.show()\n",
    "pyplot.imshow(preprocess_screen(test_env, test_img))\n",
    "pyplot.show()"
   ]
  },
  {
   "cell_type": "code",
   "execution_count": 25,
   "metadata": {
    "scrolled": true
   },
   "outputs": [
    {
     "data": {
      "image/png": "[encoded data removed]",
      "text/plain": [
       "<Figure size 432x288 with 1 Axes>"
      ]
     },
     "metadata": {
      "needs_background": "light"
     },
     "output_type": "display_data"
    },
    {
     "data": {
      "image/png": "[encoded data removed]",
      "text/plain": [
       "<Figure size 432x288 with 1 Axes>"
      ]
     },
     "metadata": {
      "needs_background": "light"
     },
     "output_type": "display_data"
    },
    {
     "name": "stderr",
     "output_type": "stream",
     "text": [
      "[2020-03-06 02:07:38,214] Clipping input data to the valid range for imshow with RGB data ([0..1] for floats or [0..255] for integers).\n"
     ]
    },
    {
     "data": {
      "image/png": "[encoded data removed]",
      "text/plain": [
       "<Figure size 432x288 with 1 Axes>"
      ]
     },
     "metadata": {
      "needs_background": "light"
     },
     "output_type": "display_data"
    },
    {
     "data": {
      "image/png": "[encoded data removed]",
      "text/plain": [
       "<Figure size 432x288 with 1 Axes>"
      ]
     },
     "metadata": {
      "needs_background": "light"
     },
     "output_type": "display_data"
    },
    {
     "data": {
      "image/png": "[encoded data removed]",
      "text/plain": [
       "<Figure size 432x288 with 1 Axes>"
      ]
     },
     "metadata": {
      "needs_background": "light"
     },
     "output_type": "display_data"
    },
    {
     "name": "stderr",
     "output_type": "stream",
     "text": [
      "[2020-03-06 02:07:38,584] Clipping input data to the valid range for imshow with RGB data ([0..1] for floats or [0..255] for integers).\n"
     ]
    },
    {
     "data": {
      "image/png": "[encoded data removed]",
      "text/plain": [
       "<Figure size 432x288 with 1 Axes>"
      ]
     },
     "metadata": {
      "needs_background": "light"
     },
     "output_type": "display_data"
    },
    {
     "data": {
      "image/png": "[encoded data removed]",
      "text/plain": [
       "<Figure size 432x288 with 1 Axes>"
      ]
     },
     "metadata": {
      "needs_background": "light"
     },
     "output_type": "display_data"
    },
    {
     "data": {
      "image/png": "[encoded data removed]",
      "text/plain": [
       "<Figure size 432x288 with 1 Axes>"
      ]
     },
     "metadata": {
      "needs_background": "light"
     },
     "output_type": "display_data"
    },
    {
     "name": "stderr",
     "output_type": "stream",
     "text": [
      "[2020-03-06 02:07:38,964] Clipping input data to the valid range for imshow with RGB data ([0..1] for floats or [0..255] for integers).\n"
     ]
    },
    {
     "data": {
      "image/png": "[encoded data removed]",
      "text/plain": [
       "<Figure size 432x288 with 1 Axes>"
      ]
     },
     "metadata": {
      "needs_background": "light"
     },
     "output_type": "display_data"
    },
    {
     "data": {
      "image/png": "[encoded data removed]",
      "text/plain": [
       "<Figure size 432x288 with 1 Axes>"
      ]
     },
     "metadata": {
      "needs_background": "light"
     },
     "output_type": "display_data"
    },
    {
     "data": {
      "image/png": "[encoded data removed]",
      "text/plain": [
       "<Figure size 432x288 with 1 Axes>"
      ]
     },
     "metadata": {
      "needs_background": "light"
     },
     "output_type": "display_data"
    },
    {
     "name": "stderr",
     "output_type": "stream",
     "text": [
      "[2020-03-06 02:07:39,361] Clipping input data to the valid range for imshow with RGB data ([0..1] for floats or [0..255] for integers).\n"
     ]
    },
    {
     "data": {
      "image/png": "[encoded data removed]",
      "text/plain": [
       "<Figure size 432x288 with 1 Axes>"
      ]
     },
     "metadata": {
      "needs_background": "light"
     },
     "output_type": "display_data"
    },
    {
     "data": {
      "image/png": "[encoded data removed]",
      "text/plain": [
       "<Figure size 432x288 with 1 Axes>"
      ]
     },
     "metadata": {
      "needs_background": "light"
     },
     "output_type": "display_data"
    },
    {
     "data": {
      "image/png": "[encoded data removed]",
      "text/plain": [
       "<Figure size 432x288 with 1 Axes>"
      ]
     },
     "metadata": {
      "needs_background": "light"
     },
     "output_type": "display_data"
    },
    {
     "name": "stderr",
     "output_type": "stream",
     "text": [
      "[2020-03-06 02:07:39,737] Clipping input data to the valid range for imshow with RGB data ([0..1] for floats or [0..255] for integers).\n"
     ]
    },
    {
     "data": {
      "image/png": "[encoded data removed]",
      "text/plain": [
       "<Figure size 432x288 with 1 Axes>"
      ]
     },
     "metadata": {
      "needs_background": "light"
     },
     "output_type": "display_data"
    },
    {
     "data": {
      "image/png": "[encoded data removed]",
      "text/plain": [
       "<Figure size 432x288 with 1 Axes>"
      ]
     },
     "metadata": {
      "needs_background": "light"
     },
     "output_type": "display_data"
    },
    {
     "data": {
      "image/png": "[encoded data removed]",
      "text/plain": [
       "<Figure size 432x288 with 1 Axes>"
      ]
     },
     "metadata": {
      "needs_background": "light"
     },
     "output_type": "display_data"
    },
    {
     "name": "stderr",
     "output_type": "stream",
     "text": [
      "[2020-03-06 02:07:40,099] Clipping input data to the valid range for imshow with RGB data ([0..1] for floats or [0..255] for integers).\n"
     ]
    },
    {
     "data": {
      "image/png": "[encoded data removed]",
      "text/plain": [
       "<Figure size 432x288 with 1 Axes>"
      ]
     },
     "metadata": {
      "needs_background": "light"
     },
     "output_type": "display_data"
    },
    {
     "data": {
      "image/png": "[encoded data removed]",
      "text/plain": [
       "<Figure size 432x288 with 1 Axes>"
      ]
     },
     "metadata": {
      "needs_background": "light"
     },
     "output_type": "display_data"
    },
    {
     "data": {
      "image/png": "[encoded data removed]",
      "text/plain": [
       "<Figure size 432x288 with 1 Axes>"
      ]
     },
     "metadata": {
      "needs_background": "light"
     },
     "output_type": "display_data"
    },
    {
     "name": "stderr",
     "output_type": "stream",
     "text": [
      "[2020-03-06 02:07:40,490] Clipping input data to the valid range for imshow with RGB data ([0..1] for floats or [0..255] for integers).\n"
     ]
    },
    {
     "data": {
      "image/png": "[encoded data removed]",
      "text/plain": [
       "<Figure size 432x288 with 1 Axes>"
      ]
     },
     "metadata": {
      "needs_background": "light"
     },
     "output_type": "display_data"
    },
    {
     "data": {
      "image/png": "[encoded data removed]",
      "text/plain": [
       "<Figure size 432x288 with 1 Axes>"
      ]
     },
     "metadata": {
      "needs_background": "light"
     },
     "output_type": "display_data"
    },
    {
     "data": {
      "image/png": "[encoded data removed]",
      "text/plain": [
       "<Figure size 432x288 with 1 Axes>"
      ]
     },
     "metadata": {
      "needs_background": "light"
     },
     "output_type": "display_data"
    },
    {
     "name": "stderr",
     "output_type": "stream",
     "text": [
      "[2020-03-06 02:07:40,879] Clipping input data to the valid range for imshow with RGB data ([0..1] for floats or [0..255] for integers).\n"
     ]
    },
    {
     "data": {
      "image/png": "[encoded data removed]",
      "text/plain": [
       "<Figure size 432x288 with 1 Axes>"
      ]
     },
     "metadata": {
      "needs_background": "light"
     },
     "output_type": "display_data"
    },
    {
     "data": {
      "image/png": "[encoded data removed]",
      "text/plain": [
       "<Figure size 432x288 with 1 Axes>"
      ]
     },
     "metadata": {
      "needs_background": "light"
     },
     "output_type": "display_data"
    },
    {
     "data": {
      "image/png": "[encoded data removed]",
      "text/plain": [
       "<Figure size 432x288 with 1 Axes>"
      ]
     },
     "metadata": {
      "needs_background": "light"
     },
     "output_type": "display_data"
    },
    {
     "name": "stderr",
     "output_type": "stream",
     "text": [
      "[2020-03-06 02:07:41,355] Clipping input data to the valid range for imshow with RGB data ([0..1] for floats or [0..255] for integers).\n"
     ]
    },
    {
     "data": {
      "image/png": "[encoded data removed]",
      "text/plain": [
       "<Figure size 432x288 with 1 Axes>"
      ]
     },
     "metadata": {
      "needs_background": "light"
     },
     "output_type": "display_data"
    },
    {
     "data": {
      "image/png": "[encoded data removed]",
      "text/plain": [
       "<Figure size 432x288 with 1 Axes>"
      ]
     },
     "metadata": {
      "needs_background": "light"
     },
     "output_type": "display_data"
    },
    {
     "data": {
      "image/png": "[encoded data removed]",
      "text/plain": [
       "<Figure size 432x288 with 1 Axes>"
      ]
     },
     "metadata": {
      "needs_background": "light"
     },
     "output_type": "display_data"
    },
    {
     "name": "stderr",
     "output_type": "stream",
     "text": [
      "[2020-03-06 02:07:41,728] Clipping input data to the valid range for imshow with RGB data ([0..1] for floats or [0..255] for integers).\n"
     ]
    },
    {
     "data": {
      "image/png": "[encoded data removed]",
      "text/plain": [
       "<Figure size 432x288 with 1 Axes>"
      ]
     },
     "metadata": {
      "needs_background": "light"
     },
     "output_type": "display_data"
    }
   ],
   "source": [
    "test_env.reset()\n",
    "for i in range(10):\n",
    "    test_prev_screen = preprocess_screen(test_env, test_env.render(mode=\"rgb_array\") / 255.0)\n",
    "\n",
    "    test_action = test_env.action_space.sample()\n",
    "\n",
    "    *_, done,_ = test_env.step(test_action)\n",
    "    test_next_screen = preprocess_screen(test_env, test_env.render(mode=\"rgb_array\") / 255.0)\n",
    "\n",
    "    pyplot.imshow(test_prev_screen)\n",
    "    pyplot.show()\n",
    "    pyplot.imshow(test_next_screen)\n",
    "    pyplot.show()\n",
    "    #x = preprocess_screen(test_env,test_prev_screen)\n",
    "    #y = preprocess_screen(test_env,test_next_screen)\n",
    "    #z = tf.concat([x, y], axis=0)\n",
    "    test_state = test_next_screen - test_prev_screen\n",
    "    pyplot.imshow(test_state)\n",
    "    pyplot.show()\n",
    "    \n",
    "    if done:\n",
    "        test_env.reset()"
   ]
  },
  {
   "cell_type": "markdown",
   "metadata": {},
   "source": [
    "# Description:\n",
    "A pole is attached by an un-actuated joint to a cart, which moves along a frictionless track. The pendulum starts upright, and the goal is to prevent it from falling over by increasing and reducing the cart's velocity.\n",
    "\n",
    "## Source:\n",
    "This environment corresponds to the version of the cart-pole problem described by Barto, Sutton, and Anderson\n",
    "        \n",
    "## Observation: \n",
    "Type: Box(4)\n",
    "\n",
    "<table>\n",
    "    <tr><td><b>  Num   </b></td><td><b>  Observation </b></td><td><b>  Min </b></td><td><b> Max </b></td></tr>\n",
    "<tr><td>     0  </td><td>  Cart Position  </td><td>  -4.8  </td><td>  4.8 </td></tr>\n",
    "<tr><td>     1  </td><td>  Cart Velocity </td><td>    -Inf </td><td>    Inf </td></tr>\n",
    "<tr><td>     2  </td><td>  Pole Angle </td><td>    -24 deg </td><td>    24 deg </td></tr>\n",
    "<tr><td>     3  </td><td>  Pole Velocity At Tip </td><td>    -Inf </td><td>    Inf </td></tr>\n",
    "</table>\n",
    "\n",
    "\n",
    "## Actions:\n",
    "Type: Discrete(2)\n",
    "<table>\n",
    "    <tr><td><b> Num </b></td><td><b>\tAction </b></td></tr>\n",
    "<tr><td>0\t</td><td>Push cart to the left </td></tr>\n",
    "<tr><td>1\t</td><td>Push cart to the right </td></tr>\n",
    "</table>\n",
    "        \n",
    "Note: The amount the velocity that is reduced or increased is not fixed; it depends on the angle the pole is pointing. This is because the center of gravity of the pole increases the amount of energy needed to move the cart underneath it\n",
    "\n",
    "## Reward:\n",
    "Reward is 1 for every step taken, including the termination step\n",
    "\n",
    "\n",
    "## Starting State:\n",
    "All observations are assigned a uniform random value in [-0.05..0.05]\n",
    "\n",
    "## Episode Termination:\n",
    "- Pole Angle is more than 12 degrees\n",
    "- Cart Position is more than 2.4 (center of the cart reaches the edge of the display)\n",
    "- Episode length is greater than 200\n",
    "\n",
    "## Solved Requirements\n",
    "- Considered solved when the average reward is greater than or equal to 195.0 over 100 consecutive trials."
   ]
  },
  {
   "cell_type": "markdown",
   "metadata": {},
   "source": [
    "Training\n",
    "--------\n",
    "\n",
    "### Hyperparameters and utilities\n",
    "\n",
    "This cell instantiates our model and its optimizer, and defines some\n",
    "utilities:\n",
    "\n",
    "-  ``Variable`` - this is a simple wrapper around\n",
    "   ``torch.autograd.Variable`` that will automatically send the data to\n",
    "   the GPU every time we construct a Variable.\n",
    "-  ``select_action`` - will select an action accordingly to an epsilon\n",
    "   greedy policy. Simply put, we'll sometimes use our model for choosing\n",
    "   the action, and sometimes we'll just sample one uniformly. The\n",
    "   probability of choosing a random action will start at ``EPS_START``\n",
    "   and will decay exponentially towards ``EPS_END``. ``EPS_DECAY``\n",
    "   controls the rate of the decay.\n",
    "-  ``plot_durations`` - a helper for plotting the durations of episodes,\n",
    "   along with an average over the last 100 episodes (the measure used in\n",
    "   the official evaluations). The plot will be underneath the cell\n",
    "   containing the main training loop, and will update after every\n",
    "   episode.\n",
    "\n",
    "\n"
   ]
  },
  {
   "cell_type": "markdown",
   "metadata": {},
   "source": [
    "Computes:\n",
    "\n",
    "\\begin{align}y_{j} =  \n",
    "\\begin{cases} r_{j} & \\text{if } s_{j+1 }  \\text{ is terminal (final)}  \\\\\n",
    "r_{j} + \\gamma \\max_{a^{\\prime}} Q(s_{j+1}, a^{\\prime}) \\end{cases} \\end{align}\n",
    "\n",
    "\n",
    "By definition we set $y_{j} = 0$ if $s_{j+1}$ is a terminal\n",
    "state."
   ]
  },
  {
   "cell_type": "code",
   "execution_count": 26,
   "metadata": {},
   "outputs": [],
   "source": [
    "def expected_q_values(model: keras.Model, discount: float, rewards: EagerTensor,\n",
    "                      next_states: Tuple) -> EagerTensor:\n",
    "    # next_states: tuple containing EagerTensor or None\n",
    "    assert len(rewards.shape) == 1\n",
    "    assert len(next_states) == rewards.shape[0]\n",
    "    \n",
    "    # Compute a mask of non-final states\n",
    "    non_final_mask = np.array(\n",
    "        [next_state is not None for next_state in next_states], dtype=np.bool)\n",
    "\n",
    "    non_final_next_states = tf.convert_to_tensor([next_state for next_state in\n",
    "                                                  next_states if next_state is not None], dtype=tf.float32)\n",
    "\n",
    "    next_state_q_values = np.zeros((len(next_states),), dtype=np.float32)\n",
    "\n",
    "    predn = model(non_final_next_states)\n",
    "    \n",
    "    \n",
    "    next_state_q_values[non_final_mask] = tf.reduce_max(\n",
    "        predn, axis=-1, keepdims=False).numpy()\n",
    "\n",
    "    next_state_q_values = tf.convert_to_tensor(\n",
    "        next_state_q_values, dtype=tf.float32)\n",
    "\n",
    "    return rewards + discount * next_state_q_values"
   ]
  },
  {
   "cell_type": "code",
   "execution_count": 27,
   "metadata": {},
   "outputs": [],
   "source": [
    "@tf.function\n",
    "def smooth_l1_loss(x: EagerTensor, y: EagerTensor):\n",
    "    \n",
    "    assert x.dtype in (tf.float32, tf.float64, tf.float16)\n",
    "    assert y.dtype in (tf.float32, tf.float64, tf.float16)\n",
    "    \n",
    "    loss = tf.where(tf.abs(x - y) < 1.0, 0.5 * tf.square(x - y), tf.abs(x - y) - 0.5)\n",
    "    return tf.reduce_mean(loss, axis=-1)"
   ]
  },
  {
   "cell_type": "code",
   "execution_count": 28,
   "metadata": {},
   "outputs": [
    {
     "data": {
      "text/plain": [
       "<tf.Tensor: shape=(), dtype=float64, numpy=0.5>"
      ]
     },
     "execution_count": 28,
     "metadata": {},
     "output_type": "execute_result"
    }
   ],
   "source": [
    "smooth_l1_loss(tf.convert_to_tensor([1,1,1], dtype=tf.float64),tf.convert_to_tensor([0,0,0], dtype=tf.float64))"
   ]
  },
  {
   "cell_type": "markdown",
   "metadata": {},
   "source": [
    "Computes:\n",
    "\n",
    "\n",
    "\\begin{align}\\hat y_{j} = Q(s_{j},  a_{j}) \\end{align}\n",
    "and:\n",
    "\\begin{align}\\mathcal{L}(\\hat y_{j}, y_{j})\\end{align}\n"
   ]
  },
  {
   "cell_type": "code",
   "execution_count": 29,
   "metadata": {},
   "outputs": [],
   "source": [
    "# @tf.function\n",
    "def dqn_loss(loss_fn: Callable, expected_q_values: EagerTensor,\n",
    "                       model_output: EagerTensor, actions: EagerTensor):\n",
    "    # to help prevent possible tensor broadcasting errors\n",
    "    \n",
    "    assert len(expected_q_values.shape) == 1\n",
    "    assert len(model_output.shape) == 2\n",
    "    assert len(actions.shape) == 1\n",
    "    assert expected_q_values.shape[0] == model_output.shape[0]\n",
    "    assert expected_q_values.shape == actions.shape\n",
    "    \n",
    "    # expected to be EagerTensor of int32\n",
    "    nbatches = len(actions)\n",
    "    \n",
    "    actions = tf.convert_to_tensor(\n",
    "        tuple((i, actions[i]) for i in range(nbatches)))\n",
    "    predicted_q_values = tf.gather_nd(model_output, actions)\n",
    "    \n",
    "    loss = loss_fn(expected_q_values, predicted_q_values)\n",
    "    \n",
    "    \n",
    "    return loss\n",
    "    "
   ]
  },
  {
   "cell_type": "code",
   "execution_count": 30,
   "metadata": {},
   "outputs": [
    {
     "name": "stdout",
     "output_type": "stream",
     "text": [
      "tf.Tensor(0.0, shape=(), dtype=float32)\n"
     ]
    }
   ],
   "source": [
    "test_output = tf.convert_to_tensor([[1, 2], [0, 4], [0,5]])\n",
    "test_actions = tf.convert_to_tensor([1, 1, 1])\n",
    "test_q_exp = tf.convert_to_tensor([2, 4, 5])\n",
    "\n",
    "with tf.device(DEVICE_ID):\n",
    "    print(dqn_loss(losses.Huber(), test_q_exp, test_output, test_actions))"
   ]
  },
  {
   "cell_type": "markdown",
   "metadata": {},
   "source": [
    "### Training loop\n",
    "\n",
    "Finally, the code for training our model.\n",
    "\n",
    "Here, you can find an ``optimize_model`` function that performs a\n",
    "single step of the optimization. It first samples a batch, concatenates\n",
    "all the tensors into a single one and performs gradient descent.\n",
    "\n"
   ]
  },
  {
   "cell_type": "code",
   "execution_count": 31,
   "metadata": {},
   "outputs": [],
   "source": [
    "def optimize_model(model: keras.Model, optimizer: optimizers.Optimizer,\n",
    "                   memory: ReplayMemory, loss_fn: Callable,\n",
    "                   batch_size: int, discount: float):\n",
    "    \n",
    "    if len(memory) < batch_size:\n",
    "        warnings.warn(f\"batch_size (={batch_size}) is less than length of replay memory (={len(memory)}) \\n\\\n",
    "                      check to see if replay memory has acquired enough state transitions to begin training \\n\\\n",
    "                      terminating optimization...\")\n",
    "        return\n",
    "    \n",
    "    # Sample random minibatch of transitions\n",
    "    # B x D\n",
    "    transition_samples = memory.sample(batch_size)\n",
    "    # transpose i.e B X D => D X B\n",
    "    states, actions, rewards, next_states = tuple(zip(*transition_samples))\n",
    "    \n",
    "    states = tf.convert_to_tensor(states, dtype=tf.float32)\n",
    "    actions = tf.convert_to_tensor(actions, dtype=tf.int32)\n",
    "    rewards = tf.convert_to_tensor(rewards, dtype=tf.float32)\n",
    "    \n",
    "    with tf.GradientTape() as tape:\n",
    "        model_output = model(states)\n",
    "        \n",
    "        q_expected = expected_q_values(model, discount, rewards, next_states)\n",
    "    \n",
    "        loss = dqn_loss(loss_fn, q_expected, model_output, actions)\n",
    "    \n",
    "    gradients = tape.gradient(loss, model.trainable_variables)\n",
    "    gradients = [(tf.clip_by_value(gradient, -1.0, 1.0))\n",
    "                                  for gradient in gradients]\n",
    "    optimizer.apply_gradients(zip(gradients, model.trainable_variables))\n",
    "\n",
    "    \n",
    "    return loss"
   ]
  },
  {
   "cell_type": "code",
   "execution_count": 32,
   "metadata": {},
   "outputs": [
    {
     "name": "stdout",
     "output_type": "stream",
     "text": [
      "2.4789326190948486, 1.6330013275146484, 0.7182196378707886, 1.8543403148651123, 0.7720781564712524, 0.6648441553115845, 0.7706875801086426, 0.6950122117996216, 0.6945430040359497, 0.6667706370353699, 0.6234681606292725, 0.6348931193351746, 0.6318618059158325, 0.775105357170105, 0.5291403532028198, 0.568075954914093, 0.6687567234039307, 0.5060217380523682, 0.5886103510856628, 0.630062460899353, "
     ]
    }
   ],
   "source": [
    "test_batch_size = 20\n",
    "test_reward_discount = 0.8\n",
    "test_mem = ReplayMemory(test_batch_size * 2)\n",
    "test_dqn = DQN(action_space_size=2)\n",
    "test_optimizer = keras.optimizers.RMSprop()\n",
    "\n",
    "for i in range(test_batch_size + 1):\n",
    "    test_mem.push(np.random.normal(0.0, 1.0, (40, 80, 3)), 1, 2, np.random.normal(0.0, 1.0, (40, 80, 3)))\n",
    "test_mem.push(np.zeros((40, 80, 3), dtype=np.float32), 0, 4, np.random.normal(0.0, 1.0, (40, 80, 3)))\n",
    "test_mem.push(np.zeros((40, 80, 3), dtype=np.float32), 0, 5, None)\n",
    "test_mem.push(np.random.normal(0.0, 1.0, (40, 80, 3)), 0, 6, np.zeros((40, 80, 3), dtype=np.float32))\n",
    "test_mem.push(np.random.normal(0.0, 1.0, (40, 80, 3)), 0, 9, None)\n",
    "\n",
    "with tf.device(DEVICE_ID):\n",
    "    for  _ in tf.range(20):\n",
    "        print(float(optimize_model(test_dqn, test_optimizer, test_mem,\n",
    "                             smooth_l1_loss, test_batch_size, test_reward_discount)), end=\", \")\n",
    "\n"
   ]
  },
  {
   "cell_type": "code",
   "execution_count": null,
   "metadata": {},
   "outputs": [],
   "source": []
  },
  {
   "cell_type": "markdown",
   "metadata": {},
   "source": [
    "Below, you can find the main training loop. At the beginning we reset\n",
    "the environment and initialize the ``state`` variable. Then, we sample\n",
    "an action, execute it, observe the next screen and the reward (always\n",
    "1), and optimize our model once. When the episode ends (our model\n",
    "fails), we restart the loop.\n",
    "\n",
    "Below, `num_episodes` is set small in the notebook. You should launch the `gym-DQN.py` script to run a lot more episodes."
   ]
  },
  {
   "cell_type": "markdown",
   "metadata": {},
   "source": [
    "##  NOTE:\n",
    "You can monitor the training progress by pointing to the ```training_summary``` directory using tensorboard."
   ]
  },
  {
   "cell_type": "code",
   "execution_count": 33,
   "metadata": {},
   "outputs": [],
   "source": [
    "# size of neural network replay memory\n",
    "REPLAY_MEMORY_SIZE: int = 10000\n",
    "BATCH_SIZE: int = 128\n",
    "# Gamma (reward discount)\n",
    "REWARD_DISCOUNT: float = 0.999"
   ]
  },
  {
   "cell_type": "code",
   "execution_count": 34,
   "metadata": {},
   "outputs": [],
   "source": [
    "assert BATCH_SIZE <= REPLAY_MEMORY_SIZE, \"batch training size must be less than the \\\n",
    "                                          replay memory size, else model won't be able \\\n",
    "                                          to get enough training data\""
   ]
  },
  {
   "cell_type": "code",
   "execution_count": 35,
   "metadata": {},
   "outputs": [],
   "source": [
    "!rm -r ./test_summary_log"
   ]
  },
  {
   "cell_type": "code",
   "execution_count": 36,
   "metadata": {},
   "outputs": [],
   "source": [
    "test_summary_writer = tf.summary.create_file_writer(\"./test_summary_log\")"
   ]
  },
  {
   "cell_type": "code",
   "execution_count": null,
   "metadata": {},
   "outputs": [],
   "source": []
  },
  {
   "cell_type": "code",
   "execution_count": 37,
   "metadata": {},
   "outputs": [],
   "source": [
    "# epsilon decays from ```EPSILON_START``` towards ```EPSILON_END```\n",
    "# stochastically, in 10 out of 100 cases model will chose exploitation\n",
    "# and thus in the remaining 90 the model will choose exploration\n",
    "EPSILON_START: float = 0.90\n",
    "#0.9\n",
    "EPSILON_END: float = 0.05\n",
    "# number of steps after which epsilon will stop annealing\n",
    "# 10 million frames but paused the epsilon on the 1 millionth frame\n",
    "EPSILON_STEPS: int = 200\n",
    "#0.05\n",
    "# determines depth of decay, to move towards perfect exploitation,\n",
    "# make this equal to total number of training epochs if you want mostly exploitation at the end of training\n",
    "# this should make the exponential term equal to 1,\n",
    "# EPSILON_DECAY: float = 500\n",
    "#500"
   ]
  },
  {
   "cell_type": "code",
   "execution_count": 38,
   "metadata": {},
   "outputs": [],
   "source": [
    "# switches between exploration and exploitation\n",
    "# model moves from mostly exploration towards mostly exploitation at the end of each episode\n",
    "def decaying_epsilon_greedy_action(model: keras.Model, state: EagerTensor, step: int,\n",
    "                                   epsilon_steps: int, epsilon_start: float,\n",
    "                                   epsilon_end: float, action_space_size:int):\n",
    "    factor = tf.exp(-1.0 * step / epsilon_steps)\n",
    "    epsilon = epsilon_end + (epsilon_start - epsilon_end) * factor\n",
    "    sample = tf.random.uniform(shape=(), minval=0.0, maxval=1.0)\n",
    "    \n",
    "    if sample > epsilon:\n",
    "        # Eploitation\n",
    "        state = tf.reshape(state,(1, *state.shape))\n",
    "        predn = model(state)\n",
    "        return tf.argmax(predn, axis=-1, output_type=tf.int32)[0]\n",
    "    else:\n",
    "        # Exploration\n",
    "        return tf.random.uniform((), minval=0, maxval=action_space_size, dtype=tf.int32)\n",
    "\n",
    "# linearly annealed epsilon greedy action\n",
    "def laeg_action(model: keras.Model, state: EagerTensor, step: int,\n",
    "                epsilon_steps: int, epsilon_start: float, epsilon_end: float,\n",
    "                action_space_size: int):\n",
    "    factor = step / epsilon_steps\n",
    "    factor = tf.minimum(factor, 1.0)\n",
    "    \n",
    "    epsilon = epsilon_start - (epsilon_start - epsilon_end) * factor\n",
    "    \n",
    "    \n",
    "    sample = tf.random.uniform(shape=(), minval=0.0, maxval=1.0)\n",
    "    \n",
    "    if sample > epsilon:\n",
    "        # Eploitation\n",
    "        state = tf.reshape(state,(1, *state.shape))\n",
    "        predn = model(state)\n",
    "        return tf.argmax(predn, axis=-1, output_type=tf.int32)[0]\n",
    "    else:\n",
    "        # Exploration\n",
    "        return tf.random.uniform((), minval=0, maxval=action_space_size, dtype=tf.int32)"
   ]
  },
  {
   "cell_type": "code",
   "execution_count": 39,
   "metadata": {},
   "outputs": [
    {
     "data": {
      "text/plain": [
       "<tf.Tensor: shape=(), dtype=int32, numpy=1>"
      ]
     },
     "execution_count": 39,
     "metadata": {},
     "output_type": "execute_result"
    }
   ],
   "source": [
    "decaying_epsilon_greedy_action(test_nn, tf.ones((40, 80, 3)), 200,200,\n",
    "                      EPSILON_START, EPSILON_END,\n",
    "                      ACTION_SPACE_SIZE)"
   ]
  },
  {
   "cell_type": "code",
   "execution_count": 40,
   "metadata": {},
   "outputs": [
    {
     "data": {
      "text/plain": [
       "<tf.Tensor: shape=(), dtype=int32, numpy=1>"
      ]
     },
     "execution_count": 40,
     "metadata": {},
     "output_type": "execute_result"
    }
   ],
   "source": [
    "laeg_action(test_nn, tf.ones((40, 80, 3)), 200, 200,\n",
    "                      EPSILON_START, EPSILON_END,\n",
    "                      ACTION_SPACE_SIZE)"
   ]
  },
  {
   "cell_type": "code",
   "execution_count": null,
   "metadata": {},
   "outputs": [],
   "source": []
  },
  {
   "cell_type": "code",
   "execution_count": 41,
   "metadata": {},
   "outputs": [],
   "source": [
    "def fit_model(env : gym.Env, model: keras.Model, \n",
    "              optimizer: optimizers.Optimizer, memory: ReplayMemory,\n",
    "              summary_writer: tf.summary.SummaryWriter, episodes: int,\n",
    "              batch_size: int, reward_discount: float, loss_fn: losses.Loss,\n",
    "              epsilon_steps, epsilon_start, epsilon_end, action_space_size):\n",
    "    \n",
    "    step = 0\n",
    "    with summary_writer.as_default():\n",
    "        for episode in tf.range(1, episodes+1):\n",
    "            env.reset()\n",
    "            \n",
    "            previous_view = preprocess_screen(env, env.render(\"rgb_array\") / 255.0)\n",
    "            current_view = preprocess_screen(env, env.render(\"rgb_array\") / 255.0)\n",
    "            state = current_view - previous_view\n",
    "            \n",
    "            for episode_duration in count():\n",
    "                step += 1\n",
    "                \n",
    "                action = decaying_epsilon_greedy_action(model, state, step, epsilon_steps,\n",
    "                                     epsilon_start, epsilon_end, action_space_size)\n",
    "    \n",
    "                # Execute action in emulator and observe reward and next state\n",
    "                _, reward, done, _ = env.step(action.numpy())\n",
    "                \n",
    "                previous_view = current_view\n",
    "                current_view = preprocess_screen(env, env.render(\"rgb_array\") / 255.0)\n",
    "                \n",
    "                next_state = None\n",
    "\n",
    "                if not done:\n",
    "                    # preprocess next state\n",
    "                    next_state = current_view - previous_view\n",
    "                    \n",
    "                # Store transition in replay memory\n",
    "                memory.push(state, action, reward, next_state)\n",
    "                \n",
    "                state = next_state\n",
    "                \n",
    "                if len(memory) >= batch_size:\n",
    "                    loss = optimize_model(model, optimizer, memory, loss_fn, batch_size, reward_discount)\n",
    "                    tf.summary.scalar(\"Huber Loss\", loss, step=step)\n",
    "                    summary_writer.flush()\n",
    "                \n",
    "                if done:\n",
    "                    episode_tf = tf.convert_to_tensor(episode, dtype=tf.int32)\n",
    "                    episode_tf = tf.cast(episode_tf, tf.int64)\n",
    "                    tf.summary.scalar(\"Episode Duration\", episode_duration, step=episode_tf)\n",
    "                    summary_writer.flush()\n",
    "                    print(f\"[Episode: {episode}] Duration: {episode_duration}\")\n",
    "                    break"
   ]
  },
  {
   "cell_type": "code",
   "execution_count": 42,
   "metadata": {},
   "outputs": [],
   "source": [
    "!rm -r ./summary_log"
   ]
  },
  {
   "cell_type": "code",
   "execution_count": 43,
   "metadata": {
    "scrolled": true
   },
   "outputs": [
    {
     "name": "stderr",
     "output_type": "stream",
     "text": [
      "[2020-03-06 02:07:48,464] Making new env: CartPole-v0\n",
      "/usr/local/lib/python3.7/dist-packages/gym/envs/registration.py:17: PkgResourcesDeprecationWarning: Parameters to load are deprecated.  Call .resolve and .require separately.\n",
      "  result = entry_point.load(False)\n"
     ]
    },
    {
     "name": "stdout",
     "output_type": "stream",
     "text": [
      "[Episode: 1] Duration: 23\n",
      "[Episode: 2] Duration: 10\n",
      "[Episode: 3] Duration: 16\n",
      "[Episode: 4] Duration: 11\n",
      "[Episode: 5] Duration: 10\n",
      "[Episode: 6] Duration: 12\n",
      "[Episode: 7] Duration: 22\n",
      "[Episode: 8] Duration: 12\n",
      "[Episode: 9] Duration: 13\n",
      "[Episode: 10] Duration: 24\n",
      "[Episode: 11] Duration: 15\n",
      "[Episode: 12] Duration: 18\n",
      "[Episode: 13] Duration: 14\n",
      "[Episode: 14] Duration: 15\n",
      "[Episode: 15] Duration: 12\n",
      "[Episode: 16] Duration: 14\n",
      "[Episode: 17] Duration: 36\n",
      "[Episode: 18] Duration: 23\n",
      "[Episode: 19] Duration: 12\n",
      "[Episode: 20] Duration: 28\n",
      "[Episode: 21] Duration: 27\n",
      "[Episode: 22] Duration: 50\n",
      "[Episode: 23] Duration: 33\n",
      "[Episode: 24] Duration: 39\n",
      "[Episode: 25] Duration: 40\n",
      "[Episode: 26] Duration: 50\n",
      "[Episode: 27] Duration: 67\n",
      "[Episode: 28] Duration: 24\n",
      "[Episode: 29] Duration: 51\n",
      "[Episode: 30] Duration: 32\n",
      "[Episode: 31] Duration: 45\n",
      "[Episode: 32] Duration: 25\n",
      "[Episode: 33] Duration: 24\n",
      "[Episode: 34] Duration: 30\n",
      "[Episode: 35] Duration: 13\n",
      "[Episode: 36] Duration: 21\n",
      "[Episode: 37] Duration: 41\n",
      "[Episode: 38] Duration: 19\n",
      "[Episode: 39] Duration: 10\n",
      "[Episode: 40] Duration: 14\n",
      "[Episode: 41] Duration: 51\n",
      "[Episode: 42] Duration: 26\n",
      "[Episode: 43] Duration: 23\n",
      "[Episode: 44] Duration: 14\n",
      "[Episode: 45] Duration: 52\n",
      "[Episode: 46] Duration: 23\n",
      "[Episode: 47] Duration: 20\n",
      "[Episode: 48] Duration: 20\n",
      "[Episode: 49] Duration: 22\n",
      "[Episode: 50] Duration: 16\n"
     ]
    }
   ],
   "source": [
    "env = gym.make(\"CartPole-v0\").unwrapped\n",
    "dqn = DQN(ACTION_SPACE_SIZE)\n",
    "optimizer = keras.optimizers.RMSprop(learning_rate=0.01, epsilon=1e-08, rho=0.99)\n",
    "\n",
    "\n",
    "replay_memory = ReplayMemory(REPLAY_MEMORY_SIZE)\n",
    "summary_writer = tf.summary.create_file_writer(\"./summary_log\")\n",
    "episodes = 50\n",
    "\n",
    "\n",
    "with tf.device(DEVICE_ID):\n",
    "    fit_model(env, dqn, optimizer, replay_memory, summary_writer, episodes,\n",
    "              BATCH_SIZE, REWARD_DISCOUNT, smooth_l1_loss, EPSILON_STEPS,\n",
    "              EPSILON_START, EPSILON_END, ACTION_SPACE_SIZE)"
   ]
  },
  {
   "cell_type": "code",
   "execution_count": 44,
   "metadata": {},
   "outputs": [
    {
     "name": "stderr",
     "output_type": "stream",
     "text": [
      "[2020-03-06 02:09:03,175] Making new env: CartPole-v0\n",
      "/usr/local/lib/python3.7/dist-packages/gym/envs/registration.py:17: PkgResourcesDeprecationWarning: Parameters to load are deprecated.  Call .resolve and .require separately.\n",
      "  result = entry_point.load(False)\n"
     ]
    },
    {
     "name": "stdout",
     "output_type": "stream",
     "text": [
      "[Episode: 1] 10\n",
      "[Episode: 2] 8\n",
      "[Episode: 3] 9\n",
      "[Episode: 4] 9\n",
      "[Episode: 5] 9\n",
      "[Episode: 6] 9\n",
      "[Episode: 7] 8\n",
      "[Episode: 8] 8\n",
      "[Episode: 9] 9\n",
      "[Episode: 10] 8\n",
      "[Episode: 11] 7\n",
      "[Episode: 12] 8\n",
      "[Episode: 13] 8\n",
      "[Episode: 14] 8\n",
      "[Episode: 15] 9\n",
      "[Episode: 16] 8\n",
      "[Episode: 17] 7\n",
      "[Episode: 18] 10\n",
      "[Episode: 19] 8\n",
      "[Episode: 20] 7\n",
      "[Episode: 21] 9\n",
      "[Episode: 22] 9\n",
      "[Episode: 23] 8\n",
      "[Episode: 24] 9\n",
      "[Episode: 25] 8\n",
      "[Episode: 26] 8\n",
      "[Episode: 27] 9\n",
      "[Episode: 28] 9\n",
      "[Episode: 29] 9\n",
      "[Episode: 30] 8\n",
      "[Episode: 31] 9\n",
      "[Episode: 32] 9\n",
      "[Episode: 33] 7\n",
      "[Episode: 34] 9\n",
      "[Episode: 35] 9\n",
      "[Episode: 36] 7\n",
      "[Episode: 37] 7\n",
      "[Episode: 38] 8\n",
      "[Episode: 39] 9\n",
      "[Episode: 40] 8\n",
      "[Episode: 41] 7\n",
      "[Episode: 42] 9\n",
      "[Episode: 43] 8\n",
      "[Episode: 44] 9\n",
      "[Episode: 45] 9\n",
      "[Episode: 46] 9\n",
      "[Episode: 47] 7\n",
      "[Episode: 48] 7\n",
      "[Episode: 49] 9\n",
      "[Episode: 50] 8\n",
      "[Episode: 51] 8\n",
      "[Episode: 52] 7\n",
      "[Episode: 53] 9\n",
      "[Episode: 54] 8\n",
      "[Episode: 55] 9\n",
      "[Episode: 56] 9\n",
      "[Episode: 57] 8\n",
      "[Episode: 58] 8\n",
      "[Episode: 59] 8\n",
      "[Episode: 60] 7\n",
      "[Episode: 61] 8\n",
      "[Episode: 62] 8\n",
      "[Episode: 63] 9\n",
      "[Episode: 64] 7\n",
      "[Episode: 65] 8\n",
      "[Episode: 66] 8\n",
      "[Episode: 67] 9\n",
      "[Episode: 68] 9\n",
      "[Episode: 69] 7\n",
      "[Episode: 70] 9\n",
      "[Episode: 71] 7\n",
      "[Episode: 72] 9\n",
      "[Episode: 73] 9\n",
      "[Episode: 74] 8\n",
      "[Episode: 75] 9\n",
      "[Episode: 76] 9\n",
      "[Episode: 77] 8\n",
      "[Episode: 78] 9\n",
      "[Episode: 79] 9\n",
      "[Episode: 80] 8\n",
      "[Episode: 81] 9\n",
      "[Episode: 82] 8\n",
      "[Episode: 83] 9\n",
      "[Episode: 84] 8\n",
      "[Episode: 85] 9\n",
      "[Episode: 86] 9\n",
      "[Episode: 87] 9\n",
      "[Episode: 88] 9\n",
      "[Episode: 89] 7\n",
      "[Episode: 90] 9\n",
      "[Episode: 91] 8\n",
      "[Episode: 92] 9\n",
      "[Episode: 93] 9\n",
      "[Episode: 94] 9\n",
      "[Episode: 95] 7\n",
      "[Episode: 96] 9\n",
      "[Episode: 97] 9\n",
      "[Episode: 98] 7\n",
      "[Episode: 99] 8\n",
      "[Episode: 100] 9\n",
      "[Episode: 101] 8\n",
      "[Episode: 102] 9\n",
      "[Episode: 103] 9\n",
      "[Episode: 104] 9\n",
      "[Episode: 105] 9\n",
      "[Episode: 106] 7\n",
      "[Episode: 107] 7\n",
      "[Episode: 108] 8\n",
      "[Episode: 109] 9\n",
      "[Episode: 110] 9\n",
      "[Episode: 111] 9\n",
      "[Episode: 112] 9\n",
      "[Episode: 113] 9\n",
      "[Episode: 114] 8\n",
      "[Episode: 115] 9\n",
      "[Episode: 116] 8\n",
      "[Episode: 117] 8\n",
      "[Episode: 118] 8\n",
      "[Episode: 119] 9\n",
      "[Episode: 120] 8\n",
      "[Episode: 121] 9\n",
      "[Episode: 122] 8\n",
      "[Episode: 123] 8\n",
      "[Episode: 124] 8\n",
      "[Episode: 125] 8\n",
      "[Episode: 126] 8\n",
      "[Episode: 127] 9\n",
      "[Episode: 128] 9\n",
      "[Episode: 129] 9\n",
      "[Episode: 130] 8\n",
      "[Episode: 131] 8\n",
      "[Episode: 132] 7\n",
      "[Episode: 133] 8\n",
      "[Episode: 134] 8\n",
      "[Episode: 135] 8\n",
      "[Episode: 136] 7\n",
      "[Episode: 137] 9\n",
      "[Episode: 138] 7\n",
      "[Episode: 139] 9\n",
      "[Episode: 140] 9\n",
      "[Episode: 141] 9\n",
      "[Episode: 142] 8\n",
      "[Episode: 143] 9\n",
      "[Episode: 144] 8\n",
      "[Episode: 145] 9\n",
      "[Episode: 146] 8\n",
      "[Episode: 147] 8\n",
      "[Episode: 148] 9\n",
      "[Episode: 149] 7\n",
      "[Episode: 150] 8\n",
      "[Episode: 151] 7\n",
      "[Episode: 152] 9\n",
      "[Episode: 153] 9\n",
      "[Episode: 154] 8\n",
      "[Episode: 155] 9\n",
      "[Episode: 156] 9\n",
      "[Episode: 157] 8\n",
      "[Episode: 158] 8\n",
      "[Episode: 159] 8\n",
      "[Episode: 160] 9\n",
      "[Episode: 161] 9\n",
      "[Episode: 162] 9\n",
      "[Episode: 163] 8\n",
      "[Episode: 164] 9\n",
      "[Episode: 165] 8\n",
      "[Episode: 166] 8\n",
      "[Episode: 167] 9\n",
      "[Episode: 168] 8\n",
      "[Episode: 169] 8\n",
      "[Episode: 170] 8\n",
      "[Episode: 171] 8\n",
      "[Episode: 172] 8\n",
      "[Episode: 173] 9\n",
      "[Episode: 174] 7\n",
      "[Episode: 175] 9\n",
      "[Episode: 176] 9\n",
      "[Episode: 177] 7\n",
      "[Episode: 178] 9\n",
      "[Episode: 179] 9\n",
      "[Episode: 180] 8\n",
      "[Episode: 181] 9\n",
      "[Episode: 182] 9\n",
      "[Episode: 183] 8\n",
      "[Episode: 184] 9\n",
      "[Episode: 185] 8\n",
      "[Episode: 186] 7\n",
      "[Episode: 187] 7\n",
      "[Episode: 188] 8\n",
      "[Episode: 189] 8\n",
      "[Episode: 190] 9\n",
      "[Episode: 191] 9\n",
      "[Episode: 192] 9\n",
      "[Episode: 193] 9\n",
      "[Episode: 194] 8\n",
      "[Episode: 195] 8\n",
      "[Episode: 196] 8\n",
      "[Episode: 197] 9\n",
      "[Episode: 198] 9\n",
      "[Episode: 199] 9\n"
     ]
    }
   ],
   "source": [
    "env = gym.make(\"CartPole-v0\").unwrapped\n",
    "\n",
    "\n",
    "with summary_writer.as_default():\n",
    "    for episode in tf.range(1, 200):\n",
    "                env.reset()\n",
    "            \n",
    "                dur = None\n",
    "                \n",
    "                \n",
    "                previous_view = preprocess_screen(env, env.render(\"rgb_array\") / 255.0)\n",
    "                current_view = preprocess_screen(env, env.render(\"rgb_array\") / 255.0)\n",
    "                state = current_view - previous_view\n",
    "            \n",
    "            \n",
    "                for episode_duration in count():\n",
    "                    \n",
    "                    current_view = preprocess_screen(env, env.render(\"rgb_array\") / 255.0)\n",
    "                    # preprocess state\n",
    "                    state = current_view - previous_view\n",
    "                    \n",
    "                    action = tf.argmax(dqn(tf.reshape(state, (1, *state.shape)))[0])\n",
    "\n",
    "                    # Execute action in emulator and observe reward and next state\n",
    "                    _, reward, done, _ = env.step(action.numpy())\n",
    "                    \n",
    "                    previous_view = current_view\n",
    "\n",
    "                    current_view = preprocess_screen(env, env.render(\"rgb_array\") / 255.0)\n",
    "\n",
    "                    if done:\n",
    "                        dur = episode_duration\n",
    "                        break\n",
    "\n",
    "                print(f\"[Episode: {episode}]\", dur)\n",
    "                episode_tf = tf.convert_to_tensor(episode, dtype=tf.int32)\n",
    "                episode_tf = tf.cast(episode_tf, tf.int64)\n",
    "                tf.summary.scalar(\"Test Episode Duration\", dur, step=episode_tf)\n",
    "                summary_writer.flush()"
   ]
  },
  {
   "cell_type": "code",
   "execution_count": null,
   "metadata": {},
   "outputs": [],
   "source": []
  },
  {
   "cell_type": "code",
   "execution_count": null,
   "metadata": {},
   "outputs": [],
   "source": []
  },
  {
   "cell_type": "code",
   "execution_count": null,
   "metadata": {},
   "outputs": [],
   "source": []
  }
 ],
 "metadata": {
  "kernelspec": {
   "display_name": "Python 3",
   "language": "python",
   "name": "python3"
  },
  "language_info": {
   "codemirror_mode": {
    "name": "ipython",
    "version": 3
   },
   "file_extension": ".py",
   "mimetype": "text/x-python",
   "name": "python",
   "nbconvert_exporter": "python",
   "pygments_lexer": "ipython3",
   "version": "3.7.5"
  }
 },
 "nbformat": 4,
 "nbformat_minor": 2
}
